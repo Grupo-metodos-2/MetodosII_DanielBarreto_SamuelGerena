{
 "cells": [
  {
   "cell_type": "code",
   "execution_count": 63,
   "id": "795b383e",
   "metadata": {},
   "outputs": [],
   "source": [
    "import numpy as np\n",
    "import matplotlib.pyplot as plt\n",
    "from scipy.integrate import odeint"
   ]
  },
  {
   "cell_type": "code",
   "execution_count": 64,
   "id": "5bf640e1",
   "metadata": {},
   "outputs": [],
   "source": [
    "def System(r,t,mu=1.5):\n",
    "\n",
    "    y = r\n",
    "\n",
    "    dxdt = t+2*y\n",
    "    \n",
    "\n",
    "    return dxdt"
   ]
  },
  {
   "cell_type": "code",
   "execution_count": 65,
   "id": "d739b2ee",
   "metadata": {},
   "outputs": [],
   "source": [
    "mu=1.5\n",
    "def RungeKutta(f, r, t, h):\n",
    "    k1 = h * f(r, t,mu)\n",
    "    k2 = h * f(r + 0.5 * k1,t,mu)\n",
    "    k3 = h * f(r + 0.5 * k2,t,mu)\n",
    "    k4 = h * f(r + k3, t ,mu)\n",
    "    return (k1 + 2 * k2 + 2 * k3 + k4) / 6\n",
    "def IntegratorAdams(f,r0,t,mu):\n",
    "    #difine el paso\n",
    "    h = t[1] - t[0]\n",
    "    #______________________________________\n",
    "    x = np.zeros_like(t)\n",
    "    #vx = np.zeros_like(t)\n",
    "    \n",
    "    \n",
    "    #CONDICIONES INICIALES\n",
    "    x[0] = r0\n",
    "    \n",
    "    \n",
    "    \n",
    "    #runge khuta\n",
    "    for i in range(1,6):\n",
    "        present = x[i-1]\n",
    "        \n",
    "        p = RungeKutta(f,present,t[i],h)\n",
    "        x[i] = x[i-1] + p\n",
    "        #vx[i] = vx[i-1] + p[1]\n",
    "        \n",
    "    #CORRECCIONES\n",
    "    xc = x.copy()\n",
    "    #vxc = vx.copy()\n",
    "\n",
    "\n",
    "    K11 = np.zeros(2)\n",
    "    K12 = np.zeros(2)\n",
    "    K13 = np.zeros(2)\n",
    "    K14 = np.zeros(2)\n",
    "    \n",
    "    \n",
    "    \n",
    "    for i in range(5,len(t)):\n",
    "        \n",
    "        present = x[i-1]\n",
    "        past_1 = x[i-2]\n",
    "        past_2 = x[i-3]\n",
    "        past_3 = x[i-4]\n",
    "        past_4 = x[i-5]\n",
    "        #FUNCIONES EVALUADAS EN CADA PASO\n",
    "        K11 = f(present,t[i-1],mu)\n",
    "        K12 = f(past_1,t[i-2],mu)\n",
    "        K13 = f(past_2,t[i-3],mu)\n",
    "        K14 = f(past_3,t[i-4],mu)\n",
    "        K15 = f(past_4,t[i-5],mu)\n",
    "        #ADAMS\n",
    "        x[i] =   x[i-1] + h*((1901)*K11-(2774)*K12+(2616)*K13-(1274)*K14+(251)*K15)/720\n",
    "        #vx[i] = vx[i-1] + h*((1901)*K11[1]-(2774)*K12[1]+(2616)*K13[1]-(1274)*K14[1]+(251)*K15[1])/720\n",
    "        \n",
    "        xc[i] = x[i]\n",
    "        #vxc[i] = vx[i]\n",
    "        \n",
    "        # Futuro-MULTON\n",
    "        futuro = x[i]\n",
    "        Kmulton = f(futuro,t[i],mu)\n",
    "        \n",
    "        xc[i] =  xc[i-1] +  h*((475)*Kmulton+(1427)*K11-(798)*K12+(482)*K13-(173)*K14+(27)*K15)/1440\n",
    "        \n",
    "        #vxc[i] = vxc[i-1] +  h*((475)*Kmulton[1]+(1427)*K11[1]-(798)*K12[1]+(482)*K13[1]-(173)*K14[1]+(27)*K15[1])/1440\n",
    "    return x,xc\n",
    "\n",
    "\n"
   ]
  },
  {
   "cell_type": "code",
   "execution_count": 66,
   "id": "2683fb0a",
   "metadata": {},
   "outputs": [],
   "source": [
    "#odeint(system,r0,t)"
   ]
  },
  {
   "cell_type": "code",
   "execution_count": 67,
   "id": "d8568b1b",
   "metadata": {},
   "outputs": [],
   "source": [
    "############################33\n",
    "t = np.linspace(0,4,100)\n",
    "r0 = 0\n",
    "sol,l = IntegratorAdams(System,r0,t,1.5)\n"
   ]
  },
  {
   "cell_type": "code",
   "execution_count": 71,
   "id": "34420ea4",
   "metadata": {},
   "outputs": [
    {
     "data": {
      "text/plain": [
       "<matplotlib.legend.Legend at 0x1f0047a0250>"
      ]
     },
     "execution_count": 71,
     "metadata": {},
     "output_type": "execute_result"
    },
    {
     "data": {
      "image/png": "[encoded data removed]",
      "text/plain": [
       "<Figure size 640x480 with 1 Axes>"
      ]
     },
     "metadata": {},
     "output_type": "display_data"
    }
   ],
   "source": [
    "plt.plot(t,l,marker='.',color='r',label=\"Adams\")\n",
    "plt.scatter(t,sol,marker='*',color='b',label=\"Adams-Multon\")\n",
    "plt.legend()\n"
   ]
  }
 ],
 "metadata": {
  "kernelspec": {
   "display_name": "Python 3 (ipykernel)",
   "language": "python",
   "name": "python3"
  },
  "language_info": {
   "codemirror_mode": {
    "name": "ipython",
    "version": 3
   },
   "file_extension": ".py",
   "mimetype": "text/x-python",
   "name": "python",
   "nbconvert_exporter": "python",
   "pygments_lexer": "ipython3",
   "version": "3.11.8"
  }
 },
 "nbformat": 4,
 "nbformat_minor": 5
}
